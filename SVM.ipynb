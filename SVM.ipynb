{
 "cells": [
  {
   "cell_type": "code",
   "execution_count": 1,
   "metadata": {},
   "outputs": [],
   "source": [
    "from sklearn.model_selection import train_test_split\n",
    "from sklearn import preprocessing\n",
    "import csv\n",
    "import numpy as np\n",
    "import random\n",
    "from sklearn.svm import SVC, LinearSVC\n",
    "from sklearn.metrics import plot_confusion_matrix\n",
    "from sklearn.metrics import confusion_matrix\n",
    "from mlxtend.plotting import plot_decision_regions\n",
    "import pandas as pd\n",
    "from sklearn import metrics\n",
    "from sklearn.preprocessing import StandardScaler\n",
    "import matplotlib.pyplot as plt\n",
    "from sklearn.metrics import precision_score\n",
    "from sklearn.metrics import f1_score\n",
    "from sklearn.metrics import recall_score\n",
    "from sklearn.metrics import accuracy_score\n",
    "from mlxtend.plotting import plot_decision_regions\n",
    "from sklearn.metrics import roc_curve, roc_auc_score, auc\n",
    "import time\n",
    "from sklearn.model_selection import GridSearchCV "
   ]
  },
  {
   "cell_type": "code",
   "execution_count": 2,
   "metadata": {},
   "outputs": [],
   "source": [
    "data=pd.read_csv(\"Desktop/dataset2020.csv\")"
   ]
  },
  {
   "cell_type": "code",
   "execution_count": 3,
   "metadata": {},
   "outputs": [
    {
     "data": {
      "text/html": [
       "<div>\n",
       "<style scoped>\n",
       "    .dataframe tbody tr th:only-of-type {\n",
       "        vertical-align: middle;\n",
       "    }\n",
       "\n",
       "    .dataframe tbody tr th {\n",
       "        vertical-align: top;\n",
       "    }\n",
       "\n",
       "    .dataframe thead th {\n",
       "        text-align: right;\n",
       "    }\n",
       "</style>\n",
       "<table border=\"1\" class=\"dataframe\">\n",
       "  <thead>\n",
       "    <tr style=\"text-align: right;\">\n",
       "      <th></th>\n",
       "      <th>pe-legit</th>\n",
       "      <th>0.0</th>\n",
       "      <th>0.0.1</th>\n",
       "      <th>0.0.2</th>\n",
       "      <th>0.0.3</th>\n",
       "      <th>1.0</th>\n",
       "      <th>0.0.4</th>\n",
       "      <th>0.0.5</th>\n",
       "      <th>0.0.6</th>\n",
       "      <th>1.0.1</th>\n",
       "      <th>...</th>\n",
       "      <th>0.0.167</th>\n",
       "      <th>0.0.168</th>\n",
       "      <th>0.0.169</th>\n",
       "      <th>0.0.170</th>\n",
       "      <th>0.0.171</th>\n",
       "      <th>0.976433728375</th>\n",
       "      <th>0.333333333333.1</th>\n",
       "      <th>0.333333333333.2</th>\n",
       "      <th>0.66719859844</th>\n",
       "      <th>0.116122928315</th>\n",
       "    </tr>\n",
       "  </thead>\n",
       "  <tbody>\n",
       "  </tbody>\n",
       "</table>\n",
       "<p>0 rows × 487 columns</p>\n",
       "</div>"
      ],
      "text/plain": [
       "Empty DataFrame\n",
       "Columns: [pe-legit, 0.0, 0.0.1, 0.0.2, 0.0.3, 1.0, 0.0.4, 0.0.5, 0.0.6, 1.0.1, 1.0.2, 0.0.7, 0.333333333333, 0.545098039216, 0.925490196078, 0.41568627451, 1.0.3, 0.407843137255, 0.972549019608, 0.501960784314, 0.250980392157, 0.0.8, 0.407843137255.1, 0.8, 0.227450980392, 0.250980392157.1, 0.0.9, 0.392156862745, 0.63137254902, 0.0.10, 0.0.11, 0.0.12, 0.0.13, 0.313725490196, 0.392156862745.1, 0.537254901961, 0.145098039216, 0.0.14, 0.0.15, 0.0.16, 0.0.17, 0.513725490196, 0.925490196078.1, 0.0627450980392, 0.325490196078, 0.337254901961, 0.341176470588, 0.537254901961.1, 0.396078431373, 0.909803921569, 1.0.4, 0.0823529411765, 0.0627450980392.1, 0.501960784314.1, 0.250980392157.2, 0.0.18, 0.2, 0.823529411765, 0.541176470588, 0.83137254902, 0.537254901961.2, 0.0823529411765.1, 0.658823529412, 0.764705882353, 0.250980392157.3, 0.0.19, 0.545098039216.1, 0.78431372549, 0.505882352941, 0.882352941176, 1.0.5, 0.0.20, 0.0.21, 0.0.22, 0.537254901961.3, 0.0509803921569, 0.417518049312, 0.0111190573491, 0.0065386187168, 0.00682808881624, 0.0103017300095, 0.00401852608636, 0.00541479362485, 0.00228170548972, 0.00955251328157, 0.00279253507696, 0.0030649775235, 0.00175384824956, 0.00561912545975, 0.00355877945784, 0.00165168233211, 0.00567020841847, 0.005942650865, 0.000987603868683, 0.000868410298324, 0.00158357172047, 0.00236684375426, 0.00296281160605, 0.0012259910094, 0.00131112927394, ...]\n",
       "Index: []\n",
       "\n",
       "[0 rows x 487 columns]"
      ]
     },
     "execution_count": 3,
     "metadata": {},
     "output_type": "execute_result"
    }
   ],
   "source": [
    "mapping={'pe-legit':0, 'pe-malicious':1}\n",
    "data.iloc[:0].replace(mapping, inplace=True)"
   ]
  },
  {
   "cell_type": "code",
   "execution_count": 4,
   "metadata": {},
   "outputs": [],
   "source": [
    "X=data.iloc[:,1:].values\n",
    "Y=data.iloc[:,0].values"
   ]
  },
  {
   "cell_type": "code",
   "execution_count": 5,
   "metadata": {},
   "outputs": [],
   "source": [
    "X_train ,X_test, Y_train,Y_test = train_test_split(X,Y,test_size=1 / 5, random_state=0)"
   ]
  },
  {
   "cell_type": "markdown",
   "metadata": {},
   "source": [
    "# rbf kernel and C=1.0"
   ]
  },
  {
   "cell_type": "code",
   "execution_count": 6,
   "metadata": {},
   "outputs": [],
   "source": [
    "svc=SVC(C=1.0)"
   ]
  },
  {
   "cell_type": "code",
   "execution_count": 7,
   "metadata": {},
   "outputs": [],
   "source": [
    "svc = svc.fit(X_train, Y_train)"
   ]
  },
  {
   "cell_type": "code",
   "execution_count": 8,
   "metadata": {},
   "outputs": [],
   "source": [
    "y_pred = svc.predict(X_test)"
   ]
  },
  {
   "cell_type": "code",
   "execution_count": 13,
   "metadata": {},
   "outputs": [
    {
     "name": "stdout",
     "output_type": "stream",
     "text": [
      "              precision    recall  f1-score   support\n",
      "\n",
      "    pe-legit       0.92      0.95      0.94      4900\n",
      "pe-malicious       0.95      0.91      0.93      4926\n",
      "\n",
      "    accuracy                           0.93      9826\n",
      "   macro avg       0.93      0.93      0.93      9826\n",
      "weighted avg       0.93      0.93      0.93      9826\n",
      "\n"
     ]
    },
    {
     "data": {
      "text/plain": [
       "<sklearn.metrics._plot.confusion_matrix.ConfusionMatrixDisplay at 0x24913980808>"
      ]
     },
     "execution_count": 13,
     "metadata": {},
     "output_type": "execute_result"
    },
    {
     "data": {
      "image/png": "[encoded data removed]",
      "text/plain": [
       "<Figure size 432x288 with 2 Axes>"
      ]
     },
     "metadata": {
      "needs_background": "light"
     },
     "output_type": "display_data"
    }
   ],
   "source": [
    "print(metrics.classification_report(Y_test, y_pred))\n",
    "metrics.plot_confusion_matrix(svc, X_test, Y_test)"
   ]
  },
  {
   "cell_type": "code",
   "execution_count": null,
   "metadata": {},
   "outputs": [],
   "source": []
  },
  {
   "cell_type": "code",
   "execution_count": 23,
   "metadata": {},
   "outputs": [],
   "source": [
    "Accuracy_Score = accuracy_score(Y_test, y_pred)\n",
    "Precision_Score = precision_score(Y_test, y_pred,  average=\"macro\")\n",
    "Recall_Score = recall_score(Y_test, y_pred,  average=\"macro\")\n",
    "F1_Score = metrics.f1_score(Y_test, y_pred,  average=\"macro\")"
   ]
  },
  {
   "cell_type": "code",
   "execution_count": 24,
   "metadata": {},
   "outputs": [
    {
     "name": "stdout",
     "output_type": "stream",
     "text": [
      "0.9339507429269286\n",
      "0.9345558080314377\n",
      "0.9340011765973137\n",
      "0.9339325622875218\n"
     ]
    }
   ],
   "source": [
    "print(Accuracy_Score)\n",
    "print(Precision_Score)\n",
    "print(Recall_Score)\n",
    "print(F1_Score)"
   ]
  },
  {
   "cell_type": "markdown",
   "metadata": {},
   "source": [
    "# rbf kernel and C=10.0"
   ]
  },
  {
   "cell_type": "code",
   "execution_count": 40,
   "metadata": {},
   "outputs": [],
   "source": [
    "svc=SVC(C=10.0)"
   ]
  },
  {
   "cell_type": "code",
   "execution_count": 41,
   "metadata": {},
   "outputs": [],
   "source": [
    "svc = svc.fit(X_train, Y_train)"
   ]
  },
  {
   "cell_type": "code",
   "execution_count": 42,
   "metadata": {},
   "outputs": [],
   "source": [
    "y_pred = svc.predict(X_test)"
   ]
  },
  {
   "cell_type": "code",
   "execution_count": 43,
   "metadata": {},
   "outputs": [
    {
     "data": {
      "image/png": "[encoded data removed]",
      "text/plain": [
       "<Figure size 432x288 with 2 Axes>"
      ]
     },
     "metadata": {
      "needs_background": "light"
     },
     "output_type": "display_data"
    }
   ],
   "source": [
    "matrix = plot_confusion_matrix(svc, X_test, Y_test,\n",
    "                                 cmap=plt.cm.Blues,\n",
    "                                 normalize='true')\n",
    "plt.title('Confusion matrix')\n",
    "plt.show(matrix)\n",
    "plt.show()"
   ]
  },
  {
   "cell_type": "code",
   "execution_count": 44,
   "metadata": {},
   "outputs": [],
   "source": [
    "Accuracy_Score = accuracy_score(Y_test, y_pred)\n",
    "Precision_Score = precision_score(Y_test, y_pred,  average=\"macro\")\n",
    "Recall_Score = recall_score(Y_test, y_pred,  average=\"macro\")\n",
    "F1_Score = metrics.f1_score(Y_test, y_pred,  average=\"macro\")"
   ]
  },
  {
   "cell_type": "code",
   "execution_count": 45,
   "metadata": {},
   "outputs": [
    {
     "name": "stdout",
     "output_type": "stream",
     "text": [
      "0.9547119886016691\n",
      "0.9551082207556225\n",
      "0.9547523345513601\n",
      "0.9547046583304062\n"
     ]
    }
   ],
   "source": [
    "print(Accuracy_Score)\n",
    "print(Precision_Score)\n",
    "print(Recall_Score)\n",
    "print(F1_Score)"
   ]
  },
  {
   "cell_type": "markdown",
   "metadata": {},
   "source": [
    "# rbf kernel and C=100.0"
   ]
  },
  {
   "cell_type": "code",
   "execution_count": 6,
   "metadata": {},
   "outputs": [],
   "source": [
    "svc=SVC(C=100.0, probability=True)"
   ]
  },
  {
   "cell_type": "code",
   "execution_count": 7,
   "metadata": {},
   "outputs": [],
   "source": [
    "svc = svc.fit(X_train, Y_train)"
   ]
  },
  {
   "cell_type": "code",
   "execution_count": 8,
   "metadata": {},
   "outputs": [],
   "source": [
    "y_pred = svc.predict(X_test)"
   ]
  },
  {
   "cell_type": "code",
   "execution_count": 9,
   "metadata": {},
   "outputs": [
    {
     "name": "stdout",
     "output_type": "stream",
     "text": [
      "              precision    recall  f1-score   support\n",
      "\n",
      "    pe-legit       0.95      0.96      0.96      4900\n",
      "pe-malicious       0.96      0.95      0.96      4926\n",
      "\n",
      "    accuracy                           0.96      9826\n",
      "   macro avg       0.96      0.96      0.96      9826\n",
      "weighted avg       0.96      0.96      0.96      9826\n",
      "\n"
     ]
    },
    {
     "data": {
      "text/plain": [
       "<sklearn.metrics._plot.confusion_matrix.ConfusionMatrixDisplay at 0x178c6a48108>"
      ]
     },
     "execution_count": 9,
     "metadata": {},
     "output_type": "execute_result"
    },
    {
     "data": {
      "image/png": "[encoded data removed]",
      "text/plain": [
       "<Figure size 432x288 with 2 Axes>"
      ]
     },
     "metadata": {
      "needs_background": "light"
     },
     "output_type": "display_data"
    }
   ],
   "source": [
    "print(metrics.classification_report(Y_test, y_pred))\n",
    "metrics.plot_confusion_matrix(svc, X_test, Y_test)"
   ]
  },
  {
   "cell_type": "code",
   "execution_count": 21,
   "metadata": {},
   "outputs": [],
   "source": [
    "Accuracy_Score = accuracy_score(Y_test, y_pred)\n",
    "Precision_Score = precision_score(Y_test, y_pred,  average=\"macro\")\n",
    "Recall_Score = recall_score(Y_test, y_pred,  average=\"macro\")\n",
    "F1_Score = metrics.f1_score(Y_test, y_pred,  average=\"macro\")"
   ]
  },
  {
   "cell_type": "code",
   "execution_count": 22,
   "metadata": {},
   "outputs": [
    {
     "name": "stdout",
     "output_type": "stream",
     "text": [
      "0.9577651129656015\n",
      "0.9578349645217605\n",
      "0.9577828597943441\n",
      "0.9577643776173025\n"
     ]
    }
   ],
   "source": [
    "print(Accuracy_Score)\n",
    "print(Precision_Score)\n",
    "print(Recall_Score)\n",
    "print(F1_Score)"
   ]
  },
  {
   "cell_type": "code",
   "execution_count": 65,
   "metadata": {},
   "outputs": [],
   "source": [
    "para = svc.predict_proba(X_test)"
   ]
  },
  {
   "cell_type": "code",
   "execution_count": 117,
   "metadata": {},
   "outputs": [
    {
     "name": "stdout",
     "output_type": "stream",
     "text": [
      "AUC: 0.99\n"
     ]
    }
   ],
   "source": [
    "auc = roc_auc_score(Y_test, para)\n",
    "print('AUC: %.2f' % auc)"
   ]
  },
  {
   "cell_type": "code",
   "execution_count": 112,
   "metadata": {},
   "outputs": [
    {
     "data": {
      "image/png": "[encoded data removed]",
      "text/plain": [
       "<Figure size 432x288 with 1 Axes>"
      ]
     },
     "metadata": {
      "needs_background": "light"
     },
     "output_type": "display_data"
    }
   ],
   "source": [
    "plot_roc_curve(fpr, tpr)"
   ]
  },
  {
   "cell_type": "markdown",
   "metadata": {},
   "source": [
    "# linear kernel and C=1.0"
   ]
  },
  {
   "cell_type": "code",
   "execution_count": 6,
   "metadata": {},
   "outputs": [],
   "source": [
    "linear_svc=SVC(kernel='linear', C=1.0) "
   ]
  },
  {
   "cell_type": "code",
   "execution_count": 7,
   "metadata": {},
   "outputs": [],
   "source": [
    "linear_svc = linear_svc.fit(X_train, Y_train)"
   ]
  },
  {
   "cell_type": "code",
   "execution_count": 9,
   "metadata": {},
   "outputs": [
    {
     "data": {
      "image/png": "[encoded data removed]",
      "text/plain": [
       "<Figure size 432x288 with 2 Axes>"
      ]
     },
     "metadata": {
      "needs_background": "light"
     },
     "output_type": "display_data"
    }
   ],
   "source": [
    "matrix_3 = plot_confusion_matrix(linear_svc, X_test, Y_test,\n",
    "                                 cmap=plt.cm.Blues,\n",
    "                                 normalize='true')\n",
    "plt.title('Confusion matrix')\n",
    "plt.show(matrix_3)\n",
    "plt.show()"
   ]
  },
  {
   "cell_type": "code",
   "execution_count": 10,
   "metadata": {},
   "outputs": [],
   "source": [
    "y_pred1 = linear_svc.predict(X_test)"
   ]
  },
  {
   "cell_type": "code",
   "execution_count": 11,
   "metadata": {},
   "outputs": [],
   "source": [
    "Accuracy_Score1 = accuracy_score(Y_test, y_pred1)\n",
    "Precision_Score1 = precision_score(Y_test, y_pred1,  average=\"macro\")\n",
    "Recall_Score1 = recall_score(Y_test, y_pred1,  average=\"macro\")\n",
    "F1_Score1 = metrics.f1_score(Y_test, y_pred1,  average=\"macro\")"
   ]
  },
  {
   "cell_type": "code",
   "execution_count": 13,
   "metadata": {},
   "outputs": [
    {
     "name": "stdout",
     "output_type": "stream",
     "text": [
      "0.8706492977813963\n",
      "0.8713979277891055\n",
      "0.8707089827404775\n",
      "0.8705962216096821\n"
     ]
    }
   ],
   "source": [
    "print(Accuracy_Score1)\n",
    "print(Precision_Score1)\n",
    "print(Recall_Score1)\n",
    "print(F1_Score1)"
   ]
  },
  {
   "cell_type": "code",
   "execution_count": null,
   "metadata": {},
   "outputs": [],
   "source": []
  },
  {
   "cell_type": "markdown",
   "metadata": {},
   "source": [
    "# Linear kernel c=10"
   ]
  },
  {
   "cell_type": "code",
   "execution_count": 6,
   "metadata": {},
   "outputs": [],
   "source": [
    "liner_svc10 = SVC(kernel = 'linear', C=10.0)"
   ]
  },
  {
   "cell_type": "code",
   "execution_count": null,
   "metadata": {},
   "outputs": [],
   "source": [
    "liner_sv10 = liner_svc10.fit(X_train, Y_train)"
   ]
  },
  {
   "cell_type": "code",
   "execution_count": null,
   "metadata": {},
   "outputs": [],
   "source": [
    "y_pred1 = liner_sv10.predict(X_test)"
   ]
  },
  {
   "cell_type": "code",
   "execution_count": null,
   "metadata": {},
   "outputs": [],
   "source": [
    "Accuracy_Score1 = accuracy_score(Y_test, y_pred1)\n",
    "Precision_Score1 = precision_score(Y_test, y_pred1,  average=\"macro\")\n",
    "Recall_Score1 = recall_score(Y_test, y_pred1,  average=\"macro\")\n",
    "F1_Score1 = metrics.f1_score(Y_test, y_pred1,  average=\"macro\")"
   ]
  },
  {
   "cell_type": "code",
   "execution_count": null,
   "metadata": {},
   "outputs": [],
   "source": [
    "print(Accuracy_Score1)\n",
    "print(Precision_Score1)\n",
    "print(Recall_Score1)\n",
    "print(F1_Score1)"
   ]
  },
  {
   "cell_type": "code",
   "execution_count": null,
   "metadata": {},
   "outputs": [],
   "source": [
    "matrix_3 = plot_confusion_matrix(linear_svc, X_test, Y_test,\n",
    "                                 cmap=plt.cm.Blues,\n",
    "                                 normalize='true')\n",
    "plt.title('Confusion matrix')\n",
    "plt.show(matrix_3)\n",
    "plt.show()"
   ]
  },
  {
   "cell_type": "code",
   "execution_count": null,
   "metadata": {},
   "outputs": [],
   "source": [
    "a=time.time()"
   ]
  },
  {
   "cell_type": "code",
   "execution_count": null,
   "metadata": {},
   "outputs": [],
   "source": [
    "a"
   ]
  },
  {
   "cell_type": "code",
   "execution_count": null,
   "metadata": {},
   "outputs": [],
   "source": []
  },
  {
   "cell_type": "markdown",
   "metadata": {},
   "source": [
    "# sigmoid kerne and C=1.0"
   ]
  },
  {
   "cell_type": "code",
   "execution_count": 33,
   "metadata": {},
   "outputs": [],
   "source": [
    "sigmoid_svc=SVC(kernel='sigmoid', C=1.0) "
   ]
  },
  {
   "cell_type": "code",
   "execution_count": 34,
   "metadata": {},
   "outputs": [],
   "source": [
    "sigmoid_svc = sigmoid_svc.fit(X_train, Y_train)"
   ]
  },
  {
   "cell_type": "code",
   "execution_count": 35,
   "metadata": {},
   "outputs": [
    {
     "data": {
      "image/png": "[encoded data removed]",
      "text/plain": [
       "<Figure size 432x288 with 2 Axes>"
      ]
     },
     "metadata": {
      "needs_background": "light"
     },
     "output_type": "display_data"
    }
   ],
   "source": [
    "matrix_10 = plot_confusion_matrix(sigmoid_svc, X_test, Y_test,\n",
    "                                 cmap=plt.cm.Blues,\n",
    "                                 normalize='true')\n",
    "plt.title('Confusion matrix')\n",
    "plt.show(matrix_10)\n",
    "plt.show()"
   ]
  },
  {
   "cell_type": "code",
   "execution_count": 36,
   "metadata": {},
   "outputs": [],
   "source": [
    "y_pred2 = sigmoid_svc.predict(X_test)"
   ]
  },
  {
   "cell_type": "code",
   "execution_count": 38,
   "metadata": {},
   "outputs": [],
   "source": [
    "Accuracy_Score2 = accuracy_score(Y_test, y_pred2)\n",
    "Precision_Score2 = precision_score(Y_test, y_pred2,  average=\"macro\")\n",
    "Recall_Score2 = recall_score(Y_test, y_pred2,  average=\"macro\")\n",
    "F1_Score2 = metrics.f1_score(Y_test, y_pred2,  average=\"macro\")"
   ]
  },
  {
   "cell_type": "code",
   "execution_count": 39,
   "metadata": {},
   "outputs": [
    {
     "name": "stdout",
     "output_type": "stream",
     "text": [
      "0.49562385507836354\n",
      "0.49564591794446744\n",
      "0.4956472528109904\n",
      "0.49559524697342583\n"
     ]
    }
   ],
   "source": [
    "print(Accuracy_Score2)\n",
    "print(Precision_Score2)\n",
    "print(Recall_Score2)\n",
    "print(F1_Score2)"
   ]
  },
  {
   "cell_type": "markdown",
   "metadata": {},
   "source": [
    "# sigmoid kerne and C=10.0\n"
   ]
  },
  {
   "cell_type": "code",
   "execution_count": 6,
   "metadata": {},
   "outputs": [],
   "source": [
    "sigmoid_svc1=SVC(kernel='sigmoid', C=10.0)"
   ]
  },
  {
   "cell_type": "code",
   "execution_count": 7,
   "metadata": {},
   "outputs": [],
   "source": [
    "sigmoid_svc1 = sigmoid_svc1.fit(X_train, Y_train)"
   ]
  },
  {
   "cell_type": "code",
   "execution_count": 8,
   "metadata": {},
   "outputs": [],
   "source": [
    "y_pred2 = sigmoid_svc1.predict(X_test)"
   ]
  },
  {
   "cell_type": "code",
   "execution_count": 9,
   "metadata": {},
   "outputs": [],
   "source": [
    "Accuracy_Score2 = accuracy_score(Y_test, y_pred2)\n",
    "Precision_Score2 = precision_score(Y_test, y_pred2,  average=\"macro\")\n",
    "Recall_Score2 = recall_score(Y_test, y_pred2,  average=\"macro\")\n",
    "F1_Score2 = metrics.f1_score(Y_test, y_pred2,  average=\"macro\")"
   ]
  },
  {
   "cell_type": "code",
   "execution_count": 10,
   "metadata": {},
   "outputs": [
    {
     "name": "stdout",
     "output_type": "stream",
     "text": [
      "0.4930795847750865\n",
      "0.4930961119847572\n",
      "0.4930973095693819\n",
      "0.4930648361805287\n"
     ]
    }
   ],
   "source": [
    "print(Accuracy_Score2)\n",
    "print(Precision_Score2)\n",
    "print(Recall_Score2)\n",
    "print(F1_Score2)"
   ]
  },
  {
   "cell_type": "code",
   "execution_count": 11,
   "metadata": {},
   "outputs": [
    {
     "data": {
      "image/png": "[encoded data removed]",
      "text/plain": [
       "<Figure size 432x288 with 2 Axes>"
      ]
     },
     "metadata": {
      "needs_background": "light"
     },
     "output_type": "display_data"
    }
   ],
   "source": [
    "matrix_10 = plot_confusion_matrix(sigmoid_svc1, X_test, Y_test,\n",
    "                                 cmap=plt.cm.Blues,\n",
    "                                 normalize='true')\n",
    "plt.title('Confusion matrix')\n",
    "plt.show(matrix_10)\n",
    "plt.show()"
   ]
  },
  {
   "cell_type": "markdown",
   "metadata": {},
   "source": [
    "#  polynomial kernel c=1.0"
   ]
  },
  {
   "cell_type": "code",
   "execution_count": 12,
   "metadata": {},
   "outputs": [],
   "source": [
    "poly_svc=SVC(kernel='poly', C=1.0) "
   ]
  },
  {
   "cell_type": "code",
   "execution_count": 13,
   "metadata": {},
   "outputs": [],
   "source": [
    "poly_svc = poly_svc.fit(X_train,Y_train)"
   ]
  },
  {
   "cell_type": "code",
   "execution_count": 14,
   "metadata": {},
   "outputs": [],
   "source": [
    "y_pred2 = poly_svc.predict(X_test)"
   ]
  },
  {
   "cell_type": "code",
   "execution_count": 15,
   "metadata": {},
   "outputs": [],
   "source": [
    "Accuracy_Score2 = accuracy_score(Y_test, y_pred2)\n",
    "Precision_Score2 = precision_score(Y_test, y_pred2,  average=\"macro\")\n",
    "Recall_Score2 = recall_score(Y_test, y_pred2,  average=\"macro\")\n",
    "F1_Score2 = metrics.f1_score(Y_test, y_pred2,  average=\"macro\")"
   ]
  },
  {
   "cell_type": "code",
   "execution_count": 16,
   "metadata": {},
   "outputs": [
    {
     "name": "stdout",
     "output_type": "stream",
     "text": [
      "0.924486057398738\n",
      "0.9245180685551355\n",
      "0.9244752955993604\n",
      "0.9244828536975778\n"
     ]
    }
   ],
   "source": [
    "print(Accuracy_Score2)\n",
    "print(Precision_Score2)\n",
    "print(Recall_Score2)\n",
    "print(F1_Score2)"
   ]
  },
  {
   "cell_type": "code",
   "execution_count": 18,
   "metadata": {},
   "outputs": [
    {
     "data": {
      "image/png": "[encoded data removed]",
      "text/plain": [
       "<Figure size 432x288 with 2 Axes>"
      ]
     },
     "metadata": {
      "needs_background": "light"
     },
     "output_type": "display_data"
    }
   ],
   "source": [
    "matrix_10 = plot_confusion_matrix(poly_svc, X_test, Y_test,\n",
    "                                 cmap=plt.cm.Blues,\n",
    "                                 normalize='true')\n",
    "plt.title('Confusion matrix')\n",
    "plt.show(matrix_10)\n",
    "plt.show()"
   ]
  },
  {
   "cell_type": "markdown",
   "metadata": {},
   "source": [
    "# polynomial kernel c=10.0"
   ]
  },
  {
   "cell_type": "code",
   "execution_count": 12,
   "metadata": {},
   "outputs": [],
   "source": [
    "poly_svc=SVC(kernel='poly', C=10.0) "
   ]
  },
  {
   "cell_type": "code",
   "execution_count": 14,
   "metadata": {},
   "outputs": [],
   "source": [
    "poly_svc = poly_svc.fit(X_train,Y_train)"
   ]
  },
  {
   "cell_type": "code",
   "execution_count": 15,
   "metadata": {},
   "outputs": [],
   "source": [
    "y_pred2 = poly_svc.predict(X_test)"
   ]
  },
  {
   "cell_type": "code",
   "execution_count": 16,
   "metadata": {},
   "outputs": [],
   "source": [
    "Accuracy_Score2 = accuracy_score(Y_test, y_pred2)\n",
    "Precision_Score2 = precision_score(Y_test, y_pred2,  average=\"macro\")\n",
    "Recall_Score2 = recall_score(Y_test, y_pred2,  average=\"macro\")\n",
    "F1_Score2 = metrics.f1_score(Y_test, y_pred2,  average=\"macro\")"
   ]
  },
  {
   "cell_type": "code",
   "execution_count": 17,
   "metadata": {},
   "outputs": [
    {
     "name": "stdout",
     "output_type": "stream",
     "text": [
      "0.9512517809892123\n",
      "0.9514820954149943\n",
      "0.951282946796258\n",
      "0.9512475995549916\n"
     ]
    }
   ],
   "source": [
    "print(Accuracy_Score2)\n",
    "print(Precision_Score2)\n",
    "print(Recall_Score2)\n",
    "print(F1_Score2)"
   ]
  },
  {
   "cell_type": "code",
   "execution_count": 18,
   "metadata": {},
   "outputs": [
    {
     "data": {
      "image/png": "[encoded data removed]",
      "text/plain": [
       "<Figure size 432x288 with 2 Axes>"
      ]
     },
     "metadata": {
      "needs_background": "light"
     },
     "output_type": "display_data"
    }
   ],
   "source": [
    "matrix_10 = plot_confusion_matrix(poly_svc, X_test, Y_test,\n",
    "                                 cmap=plt.cm.Blues,\n",
    "                                 normalize='true')\n",
    "plt.title('Confusion matrix')\n",
    "plt.show(matrix_10)\n",
    "plt.show()"
   ]
  }
 ],
 "metadata": {
  "kernelspec": {
   "display_name": "Python 3",
   "language": "python",
   "name": "python3"
  },
  "language_info": {
   "codemirror_mode": {
    "name": "ipython",
    "version": 3
   },
   "file_extension": ".py",
   "mimetype": "text/x-python",
   "name": "python",
   "nbconvert_exporter": "python",
   "pygments_lexer": "ipython3",
   "version": "3.7.4"
  }
 },
 "nbformat": 4,
 "nbformat_minor": 4
}
