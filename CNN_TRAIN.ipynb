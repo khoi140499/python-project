{
 "cells": [
  {
   "cell_type": "code",
   "execution_count": 13,
   "metadata": {},
   "outputs": [],
   "source": [
    "import keras\n",
    "from keras.models import Sequential\n",
    "from keras.layers.core import Dense, Dropout, Activation, Flatten\n",
    "from keras.layers.convolutional import Convolution2D, MaxPooling2D\n",
    "from sklearn.model_selection import train_test_split\n",
    "import pandas as pd\n",
    "import numpy as np \n",
    "from keras.metrics import Recall\n",
    "from keras.metrics import Precision\n",
    "from sklearn.metrics import fbeta_score\n",
    "from keras.optimizers import RMSprop\n",
    "import keras.backend as K\n",
    "from numpy import array\n",
    "from tensorflow.keras.utils import *"
   ]
  },
  {
   "cell_type": "code",
   "execution_count": 14,
   "metadata": {},
   "outputs": [],
   "source": [
    "data = pd.read_csv(\"Desktop\\dataset2020.csv\");"
   ]
  },
  {
   "cell_type": "code",
   "execution_count": 15,
   "metadata": {},
   "outputs": [],
   "source": [
    "mapping = {'pe-legit': 0, 'pe-malicious': 1}\n",
    "data.iloc[:,0].replace(mapping, inplace=True)"
   ]
  },
  {
   "cell_type": "code",
   "execution_count": 16,
   "metadata": {},
   "outputs": [],
   "source": [
    "X=data.iloc[:,1:].values\n",
    "Y=data.iloc[:,0].values"
   ]
  },
  {
   "cell_type": "code",
   "execution_count": 29,
   "metadata": {},
   "outputs": [],
   "source": [
    "df_x = data.iloc[:,1:].values.reshape(len(data),18,27,1)\n",
    "\n",
    "y = data.iloc[:,0].values"
   ]
  },
  {
   "cell_type": "code",
   "execution_count": 30,
   "metadata": {},
   "outputs": [],
   "source": [
    "df_y = keras.utils.to_categorical(y,num_classes=2)"
   ]
  },
  {
   "cell_type": "code",
   "execution_count": 31,
   "metadata": {},
   "outputs": [],
   "source": [
    "df_x = np.array(df_x)\n",
    "df_y = np.array(df_y)"
   ]
  },
  {
   "cell_type": "code",
   "execution_count": 32,
   "metadata": {},
   "outputs": [],
   "source": [
    "x_train, x_test, y_train, y_test = train_test_split(df_x,df_y,test_size=0.2,random_state=4)"
   ]
  },
  {
   "cell_type": "code",
   "execution_count": 33,
   "metadata": {},
   "outputs": [],
   "source": [
    "def f1_score(y_true, y_pred, threshold_shift=0):\n",
    "    beta = 2\n",
    "\n",
    "    y_pred = K.clip(y_pred, 0, 1)\n",
    "\n",
    "    y_pred_bin = K.round(y_pred + threshold_shift)\n",
    "\n",
    "    tp = K.sum(K.round(y_true * y_pred_bin), axis=1) + K.epsilon()\n",
    "    fp = K.sum(K.round(K.clip(y_pred_bin - y_true, 0, 1)), axis=1)\n",
    "    fn = K.sum(K.round(K.clip(y_true - y_pred, 0, 1)), axis=1)\n",
    "\n",
    "    precision = tp / (tp + fp)\n",
    "    recall = tp / (tp + fn)\n",
    "\n",
    "    beta_squared = beta ** 2\n",
    "    return K.mean((beta_squared + 1) * (precision * recall) / (beta_squared * precision + recall + K.epsilon()))"
   ]
  },
  {
   "cell_type": "code",
   "execution_count": 63,
   "metadata": {
    "scrolled": false
   },
   "outputs": [],
   "source": [
    "model = Sequential()\n",
    "model.add(Convolution2D(64,3,activation='relu',input_shape=(18,27,1)))\n",
    "model.add(MaxPooling2D(pool_size=(2,2)))\n",
    "model.add(Convolution2D(128,3,activation='relu'))\n",
    "model.add(MaxPooling2D(pool_size=(2,2)))\n",
    "model.add(Flatten())\n",
    "model.add(Dense(128))\n",
    "model.add(Dropout(0.5))\n",
    "model.add(Dense(2))\n",
    "model.add(Activation('softmax'))"
   ]
  },
  {
   "cell_type": "code",
   "execution_count": 64,
   "metadata": {
    "scrolled": true
   },
   "outputs": [],
   "source": [
    "model.compile(loss='binary_crossentropy', optimizer = RMSprop(lr=0.001), metrics = \n",
    "              ['accuracy', f1_score, Precision(name='precision'), Recall(name='recall')\n",
    "               ])"
   ]
  },
  {
   "cell_type": "raw",
   "metadata": {},
   "source": [
    ",data_format='channels_last'"
   ]
  },
  {
   "cell_type": "code",
   "execution_count": 65,
   "metadata": {},
   "outputs": [
    {
     "name": "stdout",
     "output_type": "stream",
     "text": [
      "Model: \"sequential_9\"\n",
      "_________________________________________________________________\n",
      "Layer (type)                 Output Shape              Param #   \n",
      "=================================================================\n",
      "conv2d_15 (Conv2D)           (None, 16, 25, 64)        640       \n",
      "_________________________________________________________________\n",
      "max_pooling2d_12 (MaxPooling (None, 8, 12, 64)         0         \n",
      "_________________________________________________________________\n",
      "conv2d_16 (Conv2D)           (None, 6, 10, 128)        73856     \n",
      "_________________________________________________________________\n",
      "max_pooling2d_13 (MaxPooling (None, 3, 5, 128)         0         \n",
      "_________________________________________________________________\n",
      "flatten_4 (Flatten)          (None, 1920)              0         \n",
      "_________________________________________________________________\n",
      "dense_7 (Dense)              (None, 128)               245888    \n",
      "_________________________________________________________________\n",
      "dropout_4 (Dropout)          (None, 128)               0         \n",
      "_________________________________________________________________\n",
      "dense_8 (Dense)              (None, 2)                 258       \n",
      "_________________________________________________________________\n",
      "activation_4 (Activation)    (None, 2)                 0         \n",
      "=================================================================\n",
      "Total params: 320,642\n",
      "Trainable params: 320,642\n",
      "Non-trainable params: 0\n",
      "_________________________________________________________________\n"
     ]
    }
   ],
   "source": [
    "model.summary()"
   ]
  },
  {
   "cell_type": "code",
   "execution_count": 66,
   "metadata": {},
   "outputs": [
    {
     "name": "stdout",
     "output_type": "stream",
     "text": [
      "Train on 39302 samples, validate on 9826 samples\n",
      "Epoch 1/10\n",
      "39302/39302 [==============================] - 21s 531us/step - loss: 0.3339 - accuracy: 0.8565 - f1_score: 0.8565 - precision: 0.8565 - recall: 0.8565 - val_loss: 0.2621 - val_accuracy: 0.8948 - val_f1_score: 0.8951 - val_precision: 0.8948 - val_recall: 0.8948\n",
      "Epoch 2/10\n",
      "39302/39302 [==============================] - 23s 585us/step - loss: 0.2279 - accuracy: 0.9138 - f1_score: 0.9137 - precision: 0.9138 - recall: 0.9138 - val_loss: 0.2608 - val_accuracy: 0.9120 - val_f1_score: 0.9122 - val_precision: 0.9120 - val_recall: 0.9120\n",
      "Epoch 3/10\n",
      "39302/39302 [==============================] - 22s 569us/step - loss: 0.1979 - accuracy: 0.9270 - f1_score: 0.9270 - precision: 0.9270 - recall: 0.9270 - val_loss: 0.2068 - val_accuracy: 0.9296 - val_f1_score: 0.9298 - val_precision: 0.9296 - val_recall: 0.9296\n",
      "Epoch 4/10\n",
      "39302/39302 [==============================] - 22s 563us/step - loss: 0.1785 - accuracy: 0.9340 - f1_score: 0.9341 - precision: 0.9340 - recall: 0.9340 - val_loss: 0.1947 - val_accuracy: 0.9320 - val_f1_score: 0.9322 - val_precision: 0.9320 - val_recall: 0.9320\n",
      "Epoch 5/10\n",
      "39302/39302 [==============================] - 22s 562us/step - loss: 0.1668 - accuracy: 0.9389 - f1_score: 0.9389 - precision: 0.9389 - recall: 0.9389 - val_loss: 0.1920 - val_accuracy: 0.9332 - val_f1_score: 0.9334 - val_precision: 0.9332 - val_recall: 0.9332\n",
      "Epoch 6/10\n",
      "39302/39302 [==============================] - 22s 564us/step - loss: 0.1559 - accuracy: 0.9436 - f1_score: 0.9435 - precision: 0.9436 - recall: 0.9436 - val_loss: 0.2025 - val_accuracy: 0.9294 - val_f1_score: 0.9296 - val_precision: 0.9294 - val_recall: 0.9294\n",
      "Epoch 7/10\n",
      "39302/39302 [==============================] - 22s 567us/step - loss: 0.1459 - accuracy: 0.9474 - f1_score: 0.9474 - precision: 0.9474 - recall: 0.9474 - val_loss: 0.1808 - val_accuracy: 0.9404 - val_f1_score: 0.9405 - val_precision: 0.9404 - val_recall: 0.9404\n",
      "Epoch 8/10\n",
      "39302/39302 [==============================] - 23s 581us/step - loss: 0.1392 - accuracy: 0.9501 - f1_score: 0.9500 - precision: 0.9501 - recall: 0.9501 - val_loss: 0.1975 - val_accuracy: 0.9246 - val_f1_score: 0.9248 - val_precision: 0.9246 - val_recall: 0.9246\n",
      "Epoch 9/10\n",
      "39302/39302 [==============================] - 23s 583us/step - loss: 0.1355 - accuracy: 0.9521 - f1_score: 0.9521 - precision: 0.9521 - recall: 0.9521 - val_loss: 0.1823 - val_accuracy: 0.9403 - val_f1_score: 0.9404 - val_precision: 0.9403 - val_recall: 0.9403\n",
      "Epoch 10/10\n",
      "39302/39302 [==============================] - 23s 594us/step - loss: 0.1316 - accuracy: 0.9539 - f1_score: 0.9539 - precision: 0.9539 - recall: 0.9539 - val_loss: 0.1823 - val_accuracy: 0.9386 - val_f1_score: 0.9388 - val_precision: 0.9386 - val_recall: 0.9386\n"
     ]
    }
   ],
   "source": [
    "model_fit = model.fit(x_train,y_train,epochs = 10,validation_data=(x_test,y_test))"
   ]
  },
  {
   "cell_type": "code",
   "execution_count": 67,
   "metadata": {},
   "outputs": [
    {
     "name": "stdout",
     "output_type": "stream",
     "text": [
      "9826/9826 [==============================] - 1s 123us/step\n"
     ]
    }
   ],
   "source": [
    "a = model.evaluate(x_test,y_test)"
   ]
  },
  {
   "cell_type": "code",
   "execution_count": 68,
   "metadata": {},
   "outputs": [
    {
     "data": {
      "text/plain": [
       "[0.18228840952055544,\n",
       " 0.9386321902275085,\n",
       " 0.9388189911842346,\n",
       " 0.9386321902275085,\n",
       " 0.9386321902275085]"
      ]
     },
     "execution_count": 68,
     "metadata": {},
     "output_type": "execute_result"
    }
   ],
   "source": [
    "a"
   ]
  },
  {
   "cell_type": "code",
   "execution_count": 83,
   "metadata": {},
   "outputs": [
    {
     "data": {
      "text/plain": [
       "[<matplotlib.lines.Line2D at 0x1853eef6b88>]"
      ]
     },
     "execution_count": 83,
     "metadata": {},
     "output_type": "execute_result"
    },
    {
     "data": {
      "image/png": "[encoded data removed]",
      "text/plain": [
       "<Figure size 432x288 with 1 Axes>"
      ]
     },
     "metadata": {
      "needs_background": "light"
     },
     "output_type": "display_data"
    }
   ],
   "source": [
    "plt.plot(model_fit.history['accuracy'], label='train')"
   ]
  },
  {
   "cell_type": "code",
   "execution_count": 84,
   "metadata": {},
   "outputs": [
    {
     "data": {
      "text/plain": [
       "[<matplotlib.lines.Line2D at 0x1853f622b88>]"
      ]
     },
     "execution_count": 84,
     "metadata": {},
     "output_type": "execute_result"
    },
    {
     "data": {
      "image/png": "[encoded data removed]",
      "text/plain": [
       "<Figure size 432x288 with 1 Axes>"
      ]
     },
     "metadata": {
      "needs_background": "light"
     },
     "output_type": "display_data"
    }
   ],
   "source": [
    "plt.plot(model_fit.history['f1_score'], label='train')"
   ]
  },
  {
   "cell_type": "code",
   "execution_count": 85,
   "metadata": {},
   "outputs": [
    {
     "data": {
      "text/plain": [
       "[<matplotlib.lines.Line2D at 0x1853f68ccc8>]"
      ]
     },
     "execution_count": 85,
     "metadata": {},
     "output_type": "execute_result"
    },
    {
     "data": {
      "image/png": "[encoded data removed]",
      "text/plain": [
       "<Figure size 432x288 with 1 Axes>"
      ]
     },
     "metadata": {
      "needs_background": "light"
     },
     "output_type": "display_data"
    }
   ],
   "source": [
    "plt.plot(model_fit.history['recall'], label='train')"
   ]
  },
  {
   "cell_type": "code",
   "execution_count": 86,
   "metadata": {},
   "outputs": [
    {
     "data": {
      "text/plain": [
       "[<matplotlib.lines.Line2D at 0x18524b71448>]"
      ]
     },
     "execution_count": 86,
     "metadata": {},
     "output_type": "execute_result"
    },
    {
     "data": {
      "image/png": "[encoded data removed]",
      "text/plain": [
       "<Figure size 432x288 with 1 Axes>"
      ]
     },
     "metadata": {
      "needs_background": "light"
     },
     "output_type": "display_data"
    }
   ],
   "source": [
    "plt.plot(model_fit.history['precision'], label='train')"
   ]
  },
  {
   "cell_type": "code",
   "execution_count": 87,
   "metadata": {},
   "outputs": [],
   "source": [
    "from sklearn.metrics import confusion_matrix"
   ]
  }
 ],
 "metadata": {
  "kernelspec": {
   "display_name": "Python 3",
   "language": "python",
   "name": "python3"
  },
  "language_info": {
   "codemirror_mode": {
    "name": "ipython",
    "version": 3
   },
   "file_extension": ".py",
   "mimetype": "text/x-python",
   "name": "python",
   "nbconvert_exporter": "python",
   "pygments_lexer": "ipython3",
   "version": "3.7.4"
  }
 },
 "nbformat": 4,
 "nbformat_minor": 4
}
