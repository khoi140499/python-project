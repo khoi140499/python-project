{
 "cells": [
  {
   "cell_type": "code",
   "execution_count": 1,
   "metadata": {},
   "outputs": [
    {
     "name": "stderr",
     "output_type": "stream",
     "text": [
      "Using TensorFlow backend.\n"
     ]
    }
   ],
   "source": [
    "import keras\n",
    "from keras.models import Sequential\n",
    "# from keras.layers.core import Dense, Dropout, Activation, Flatten\n",
    "# from keras.layers.convolutional import Convolution2D, MaxPooling2D, Convolution1D, MaxPooling1D\n",
    "import numpy as np\n",
    "import pandas as pd\n",
    "import keras\n",
    "from keras.models import Sequential\n",
    "from keras.layers.core import Dense, Flatten\n",
    "from keras.layers import Dropout, BatchNormalization, Input, Activation\n",
    "from keras.layers.convolutional import Conv1D, MaxPooling1D\n",
    "from tensorflow.keras.callbacks import EarlyStopping\n",
    "from keras.optimizers import *\n",
    "from tensorflow.keras.utils import *\n",
    "\n",
    "from keras.metrics import Recall\n",
    "from keras.metrics import Precision\n",
    "from sklearn.metrics import *\n",
    "from sklearn.model_selection import train_test_split\n",
    "from keras.utils import to_categorical\n",
    "from keras.metrics import Recall\n",
    "from keras.metrics import Precision\n",
    "from keras.optimizers import RMSprop"
   ]
  },
  {
   "cell_type": "code",
   "execution_count": 2,
   "metadata": {},
   "outputs": [],
   "source": [
    "data = pd.read_csv(\"Desktop\\dataset2020.csv\")"
   ]
  },
  {
   "cell_type": "code",
   "execution_count": 3,
   "metadata": {},
   "outputs": [],
   "source": [
    "mapping = {'pe-legit': 0, 'pe-malicious': 1}\n",
    "data.iloc[:,0].replace(mapping, inplace=True)"
   ]
  },
  {
   "cell_type": "code",
   "execution_count": 4,
   "metadata": {},
   "outputs": [
    {
     "data": {
      "text/html": [
       "<div>\n",
       "<style scoped>\n",
       "    .dataframe tbody tr th:only-of-type {\n",
       "        vertical-align: middle;\n",
       "    }\n",
       "\n",
       "    .dataframe tbody tr th {\n",
       "        vertical-align: top;\n",
       "    }\n",
       "\n",
       "    .dataframe thead th {\n",
       "        text-align: right;\n",
       "    }\n",
       "</style>\n",
       "<table border=\"1\" class=\"dataframe\">\n",
       "  <thead>\n",
       "    <tr style=\"text-align: right;\">\n",
       "      <th></th>\n",
       "      <th>pe-legit</th>\n",
       "      <th>0.0</th>\n",
       "      <th>0.0.1</th>\n",
       "      <th>0.0.2</th>\n",
       "      <th>0.0.3</th>\n",
       "      <th>1.0</th>\n",
       "      <th>0.0.4</th>\n",
       "      <th>0.0.5</th>\n",
       "      <th>0.0.6</th>\n",
       "      <th>1.0.1</th>\n",
       "      <th>...</th>\n",
       "      <th>0.0.167</th>\n",
       "      <th>0.0.168</th>\n",
       "      <th>0.0.169</th>\n",
       "      <th>0.0.170</th>\n",
       "      <th>0.0.171</th>\n",
       "      <th>0.976433728375</th>\n",
       "      <th>0.333333333333.1</th>\n",
       "      <th>0.333333333333.2</th>\n",
       "      <th>0.66719859844</th>\n",
       "      <th>0.116122928315</th>\n",
       "    </tr>\n",
       "  </thead>\n",
       "  <tbody>\n",
       "    <tr>\n",
       "      <th>0</th>\n",
       "      <td>0</td>\n",
       "      <td>0.0</td>\n",
       "      <td>0.0</td>\n",
       "      <td>0.0</td>\n",
       "      <td>0.0</td>\n",
       "      <td>1.0</td>\n",
       "      <td>0.0</td>\n",
       "      <td>0.0</td>\n",
       "      <td>0.0</td>\n",
       "      <td>0.0</td>\n",
       "      <td>...</td>\n",
       "      <td>0.0</td>\n",
       "      <td>0.0</td>\n",
       "      <td>0.0</td>\n",
       "      <td>0.0</td>\n",
       "      <td>0.0</td>\n",
       "      <td>0.412109</td>\n",
       "      <td>0.125000</td>\n",
       "      <td>0.125000</td>\n",
       "      <td>0.430123</td>\n",
       "      <td>0.017806</td>\n",
       "    </tr>\n",
       "    <tr>\n",
       "      <th>1</th>\n",
       "      <td>1</td>\n",
       "      <td>0.0</td>\n",
       "      <td>0.0</td>\n",
       "      <td>0.0</td>\n",
       "      <td>0.0</td>\n",
       "      <td>1.0</td>\n",
       "      <td>0.0</td>\n",
       "      <td>0.0</td>\n",
       "      <td>1.0</td>\n",
       "      <td>1.0</td>\n",
       "      <td>...</td>\n",
       "      <td>0.0</td>\n",
       "      <td>0.0</td>\n",
       "      <td>0.0</td>\n",
       "      <td>0.0</td>\n",
       "      <td>0.0</td>\n",
       "      <td>0.270694</td>\n",
       "      <td>0.333333</td>\n",
       "      <td>0.666667</td>\n",
       "      <td>0.752563</td>\n",
       "      <td>0.003614</td>\n",
       "    </tr>\n",
       "    <tr>\n",
       "      <th>2</th>\n",
       "      <td>0</td>\n",
       "      <td>0.0</td>\n",
       "      <td>0.0</td>\n",
       "      <td>0.0</td>\n",
       "      <td>0.0</td>\n",
       "      <td>1.0</td>\n",
       "      <td>0.0</td>\n",
       "      <td>1.0</td>\n",
       "      <td>1.0</td>\n",
       "      <td>0.0</td>\n",
       "      <td>...</td>\n",
       "      <td>0.0</td>\n",
       "      <td>0.0</td>\n",
       "      <td>0.0</td>\n",
       "      <td>0.0</td>\n",
       "      <td>0.0</td>\n",
       "      <td>0.972070</td>\n",
       "      <td>0.125000</td>\n",
       "      <td>0.125000</td>\n",
       "      <td>0.613563</td>\n",
       "      <td>0.000037</td>\n",
       "    </tr>\n",
       "    <tr>\n",
       "      <th>3</th>\n",
       "      <td>1</td>\n",
       "      <td>1.0</td>\n",
       "      <td>1.0</td>\n",
       "      <td>0.0</td>\n",
       "      <td>0.0</td>\n",
       "      <td>1.0</td>\n",
       "      <td>1.0</td>\n",
       "      <td>1.0</td>\n",
       "      <td>1.0</td>\n",
       "      <td>1.0</td>\n",
       "      <td>...</td>\n",
       "      <td>0.0</td>\n",
       "      <td>0.0</td>\n",
       "      <td>0.0</td>\n",
       "      <td>0.0</td>\n",
       "      <td>0.0</td>\n",
       "      <td>0.989170</td>\n",
       "      <td>0.166667</td>\n",
       "      <td>0.166667</td>\n",
       "      <td>0.675976</td>\n",
       "      <td>0.000065</td>\n",
       "    </tr>\n",
       "    <tr>\n",
       "      <th>4</th>\n",
       "      <td>1</td>\n",
       "      <td>0.0</td>\n",
       "      <td>0.0</td>\n",
       "      <td>0.0</td>\n",
       "      <td>0.0</td>\n",
       "      <td>1.0</td>\n",
       "      <td>0.0</td>\n",
       "      <td>0.0</td>\n",
       "      <td>1.0</td>\n",
       "      <td>1.0</td>\n",
       "      <td>...</td>\n",
       "      <td>0.0</td>\n",
       "      <td>0.0</td>\n",
       "      <td>0.0</td>\n",
       "      <td>0.0</td>\n",
       "      <td>0.0</td>\n",
       "      <td>0.991901</td>\n",
       "      <td>0.500000</td>\n",
       "      <td>0.250000</td>\n",
       "      <td>0.734576</td>\n",
       "      <td>0.003825</td>\n",
       "    </tr>\n",
       "    <tr>\n",
       "      <th>...</th>\n",
       "      <td>...</td>\n",
       "      <td>...</td>\n",
       "      <td>...</td>\n",
       "      <td>...</td>\n",
       "      <td>...</td>\n",
       "      <td>...</td>\n",
       "      <td>...</td>\n",
       "      <td>...</td>\n",
       "      <td>...</td>\n",
       "      <td>...</td>\n",
       "      <td>...</td>\n",
       "      <td>...</td>\n",
       "      <td>...</td>\n",
       "      <td>...</td>\n",
       "      <td>...</td>\n",
       "      <td>...</td>\n",
       "      <td>...</td>\n",
       "      <td>...</td>\n",
       "      <td>...</td>\n",
       "      <td>...</td>\n",
       "      <td>...</td>\n",
       "    </tr>\n",
       "    <tr>\n",
       "      <th>49123</th>\n",
       "      <td>1</td>\n",
       "      <td>0.0</td>\n",
       "      <td>0.0</td>\n",
       "      <td>0.0</td>\n",
       "      <td>0.0</td>\n",
       "      <td>1.0</td>\n",
       "      <td>0.0</td>\n",
       "      <td>0.0</td>\n",
       "      <td>1.0</td>\n",
       "      <td>1.0</td>\n",
       "      <td>...</td>\n",
       "      <td>0.0</td>\n",
       "      <td>0.0</td>\n",
       "      <td>0.0</td>\n",
       "      <td>0.0</td>\n",
       "      <td>0.0</td>\n",
       "      <td>0.323838</td>\n",
       "      <td>1.000000</td>\n",
       "      <td>1.000000</td>\n",
       "      <td>0.979375</td>\n",
       "      <td>0.203325</td>\n",
       "    </tr>\n",
       "    <tr>\n",
       "      <th>49124</th>\n",
       "      <td>1</td>\n",
       "      <td>0.0</td>\n",
       "      <td>0.0</td>\n",
       "      <td>0.0</td>\n",
       "      <td>0.0</td>\n",
       "      <td>1.0</td>\n",
       "      <td>0.0</td>\n",
       "      <td>0.0</td>\n",
       "      <td>0.0</td>\n",
       "      <td>0.0</td>\n",
       "      <td>...</td>\n",
       "      <td>0.0</td>\n",
       "      <td>0.0</td>\n",
       "      <td>0.0</td>\n",
       "      <td>0.0</td>\n",
       "      <td>0.0</td>\n",
       "      <td>0.006316</td>\n",
       "      <td>1.000000</td>\n",
       "      <td>1.000000</td>\n",
       "      <td>1.000000</td>\n",
       "      <td>1.000000</td>\n",
       "    </tr>\n",
       "    <tr>\n",
       "      <th>49125</th>\n",
       "      <td>1</td>\n",
       "      <td>0.0</td>\n",
       "      <td>0.0</td>\n",
       "      <td>0.0</td>\n",
       "      <td>0.0</td>\n",
       "      <td>1.0</td>\n",
       "      <td>0.0</td>\n",
       "      <td>1.0</td>\n",
       "      <td>1.0</td>\n",
       "      <td>1.0</td>\n",
       "      <td>...</td>\n",
       "      <td>0.0</td>\n",
       "      <td>0.0</td>\n",
       "      <td>0.0</td>\n",
       "      <td>0.0</td>\n",
       "      <td>0.0</td>\n",
       "      <td>0.025753</td>\n",
       "      <td>0.200000</td>\n",
       "      <td>0.200000</td>\n",
       "      <td>0.434897</td>\n",
       "      <td>0.072456</td>\n",
       "    </tr>\n",
       "    <tr>\n",
       "      <th>49126</th>\n",
       "      <td>1</td>\n",
       "      <td>0.0</td>\n",
       "      <td>0.0</td>\n",
       "      <td>0.0</td>\n",
       "      <td>0.0</td>\n",
       "      <td>1.0</td>\n",
       "      <td>0.0</td>\n",
       "      <td>0.0</td>\n",
       "      <td>1.0</td>\n",
       "      <td>1.0</td>\n",
       "      <td>...</td>\n",
       "      <td>0.0</td>\n",
       "      <td>0.0</td>\n",
       "      <td>0.0</td>\n",
       "      <td>0.0</td>\n",
       "      <td>0.0</td>\n",
       "      <td>0.589556</td>\n",
       "      <td>0.250000</td>\n",
       "      <td>0.250000</td>\n",
       "      <td>0.607250</td>\n",
       "      <td>0.001549</td>\n",
       "    </tr>\n",
       "    <tr>\n",
       "      <th>49127</th>\n",
       "      <td>0</td>\n",
       "      <td>0.0</td>\n",
       "      <td>0.0</td>\n",
       "      <td>0.0</td>\n",
       "      <td>0.0</td>\n",
       "      <td>1.0</td>\n",
       "      <td>0.0</td>\n",
       "      <td>0.0</td>\n",
       "      <td>1.0</td>\n",
       "      <td>0.0</td>\n",
       "      <td>...</td>\n",
       "      <td>0.0</td>\n",
       "      <td>0.0</td>\n",
       "      <td>0.0</td>\n",
       "      <td>0.0</td>\n",
       "      <td>0.0</td>\n",
       "      <td>0.035247</td>\n",
       "      <td>0.166667</td>\n",
       "      <td>0.166667</td>\n",
       "      <td>0.593038</td>\n",
       "      <td>0.012572</td>\n",
       "    </tr>\n",
       "  </tbody>\n",
       "</table>\n",
       "<p>49128 rows × 487 columns</p>\n",
       "</div>"
      ],
      "text/plain": [
       "       pe-legit  0.0  0.0.1  0.0.2  0.0.3  1.0  0.0.4  0.0.5  0.0.6  1.0.1  \\\n",
       "0             0  0.0    0.0    0.0    0.0  1.0    0.0    0.0    0.0    0.0   \n",
       "1             1  0.0    0.0    0.0    0.0  1.0    0.0    0.0    1.0    1.0   \n",
       "2             0  0.0    0.0    0.0    0.0  1.0    0.0    1.0    1.0    0.0   \n",
       "3             1  1.0    1.0    0.0    0.0  1.0    1.0    1.0    1.0    1.0   \n",
       "4             1  0.0    0.0    0.0    0.0  1.0    0.0    0.0    1.0    1.0   \n",
       "...         ...  ...    ...    ...    ...  ...    ...    ...    ...    ...   \n",
       "49123         1  0.0    0.0    0.0    0.0  1.0    0.0    0.0    1.0    1.0   \n",
       "49124         1  0.0    0.0    0.0    0.0  1.0    0.0    0.0    0.0    0.0   \n",
       "49125         1  0.0    0.0    0.0    0.0  1.0    0.0    1.0    1.0    1.0   \n",
       "49126         1  0.0    0.0    0.0    0.0  1.0    0.0    0.0    1.0    1.0   \n",
       "49127         0  0.0    0.0    0.0    0.0  1.0    0.0    0.0    1.0    0.0   \n",
       "\n",
       "       ...  0.0.167  0.0.168  0.0.169  0.0.170  0.0.171  0.976433728375  \\\n",
       "0      ...      0.0      0.0      0.0      0.0      0.0        0.412109   \n",
       "1      ...      0.0      0.0      0.0      0.0      0.0        0.270694   \n",
       "2      ...      0.0      0.0      0.0      0.0      0.0        0.972070   \n",
       "3      ...      0.0      0.0      0.0      0.0      0.0        0.989170   \n",
       "4      ...      0.0      0.0      0.0      0.0      0.0        0.991901   \n",
       "...    ...      ...      ...      ...      ...      ...             ...   \n",
       "49123  ...      0.0      0.0      0.0      0.0      0.0        0.323838   \n",
       "49124  ...      0.0      0.0      0.0      0.0      0.0        0.006316   \n",
       "49125  ...      0.0      0.0      0.0      0.0      0.0        0.025753   \n",
       "49126  ...      0.0      0.0      0.0      0.0      0.0        0.589556   \n",
       "49127  ...      0.0      0.0      0.0      0.0      0.0        0.035247   \n",
       "\n",
       "       0.333333333333.1  0.333333333333.2  0.66719859844  0.116122928315  \n",
       "0              0.125000          0.125000       0.430123        0.017806  \n",
       "1              0.333333          0.666667       0.752563        0.003614  \n",
       "2              0.125000          0.125000       0.613563        0.000037  \n",
       "3              0.166667          0.166667       0.675976        0.000065  \n",
       "4              0.500000          0.250000       0.734576        0.003825  \n",
       "...                 ...               ...            ...             ...  \n",
       "49123          1.000000          1.000000       0.979375        0.203325  \n",
       "49124          1.000000          1.000000       1.000000        1.000000  \n",
       "49125          0.200000          0.200000       0.434897        0.072456  \n",
       "49126          0.250000          0.250000       0.607250        0.001549  \n",
       "49127          0.166667          0.166667       0.593038        0.012572  \n",
       "\n",
       "[49128 rows x 487 columns]"
      ]
     },
     "execution_count": 4,
     "metadata": {},
     "output_type": "execute_result"
    }
   ],
   "source": [
    "data.fillna(0)"
   ]
  },
  {
   "cell_type": "code",
   "execution_count": 5,
   "metadata": {},
   "outputs": [],
   "source": [
    "y = np.array(data['pe-legit'])"
   ]
  },
  {
   "cell_type": "code",
   "execution_count": 6,
   "metadata": {},
   "outputs": [],
   "source": [
    "y = to_categorical(y, num_classes=2)"
   ]
  },
  {
   "cell_type": "code",
   "execution_count": 7,
   "metadata": {},
   "outputs": [],
   "source": [
    "x = np.array(data.drop('pe-legit', axis = 1))\n",
    "# x = normalize(x)\n",
    "x = np.reshape(x, (x.shape[0], x.shape[1], 1))\n"
   ]
  },
  {
   "cell_type": "code",
   "execution_count": 8,
   "metadata": {},
   "outputs": [],
   "source": [
    "X_train, X_test, y_train, y_test = train_test_split(x, y, random_state = 42, test_size = 0.2, shuffle = True)"
   ]
  },
  {
   "cell_type": "code",
   "execution_count": 9,
   "metadata": {},
   "outputs": [],
   "source": [
    "import keras.backend as K\n",
    "def f1_score(y_true, y_pred, threshold_shift=0):\n",
    "    beta = 2\n",
    "\n",
    "    y_pred = K.clip(y_pred, 0, 1)\n",
    "\n",
    "    y_pred_bin = K.round(y_pred + threshold_shift)\n",
    "\n",
    "    tp = K.sum(K.round(y_true * y_pred_bin), axis=1) + K.epsilon()\n",
    "    fp = K.sum(K.round(K.clip(y_pred_bin - y_true, 0, 1)), axis=1)\n",
    "    fn = K.sum(K.round(K.clip(y_true - y_pred, 0, 1)), axis=1)\n",
    "\n",
    "    precision = tp / (tp + fp)\n",
    "    recall = tp / (tp + fn)\n",
    "\n",
    "    beta_squared = beta ** 2\n",
    "    return K.mean((beta_squared + 1) * (precision * recall) / (beta_squared * precision + recall + K.epsilon()))"
   ]
  },
  {
   "cell_type": "code",
   "execution_count": 17,
   "metadata": {},
   "outputs": [],
   "source": [
    "n_timesteps = X_train.shape[1]\n",
    "n_features  = X_train.shape[2] \n",
    "model = Sequential()\n",
    "\n",
    "model.add(Conv1D(32, (5), activation='relu', input_shape=(n_timesteps, n_features)))  \n",
    "model.add(MaxPooling1D(2,1))\n",
    "model.add(Conv1D(64, (5), activation='relu'))  \n",
    "model.add(MaxPooling1D(2,1))\n",
    "model.add(Conv1D(128, (5), activation='relu'))  \n",
    "model.add(MaxPooling1D(2,1))\n",
    "model.add(Conv1D(128, (5), activation='relu'))  \n",
    "model.add(MaxPooling1D(2,1))\n",
    "model.add(Dropout(0.5))\n",
    "model.add(Flatten())\n",
    "model.add(Dense(128, activation='relu'))\n",
    "model.add(Dense(y_train.shape[1]))\n",
    "model.add(Activation('softmax'))"
   ]
  },
  {
   "cell_type": "code",
   "execution_count": 18,
   "metadata": {},
   "outputs": [],
   "source": [
    "OPTI = RMSprop(lr=0.001)\n",
    "model.compile(loss='binary_crossentropy', optimizer = OPTI, metrics = \n",
    "              ['accuracy',f1_score, Precision(name=\"precision\"), Recall(name=\"recall\")])"
   ]
  },
  {
   "cell_type": "code",
   "execution_count": 19,
   "metadata": {},
   "outputs": [
    {
     "name": "stdout",
     "output_type": "stream",
     "text": [
      "Model: \"sequential_2\"\n",
      "_________________________________________________________________\n",
      "Layer (type)                 Output Shape              Param #   \n",
      "=================================================================\n",
      "conv1d_3 (Conv1D)            (None, 482, 32)           192       \n",
      "_________________________________________________________________\n",
      "max_pooling1d_3 (MaxPooling1 (None, 481, 32)           0         \n",
      "_________________________________________________________________\n",
      "conv1d_4 (Conv1D)            (None, 477, 64)           10304     \n",
      "_________________________________________________________________\n",
      "max_pooling1d_4 (MaxPooling1 (None, 476, 64)           0         \n",
      "_________________________________________________________________\n",
      "conv1d_5 (Conv1D)            (None, 472, 128)          41088     \n",
      "_________________________________________________________________\n",
      "max_pooling1d_5 (MaxPooling1 (None, 471, 128)          0         \n",
      "_________________________________________________________________\n",
      "dropout_2 (Dropout)          (None, 471, 128)          0         \n",
      "_________________________________________________________________\n",
      "flatten_2 (Flatten)          (None, 60288)             0         \n",
      "_________________________________________________________________\n",
      "dense_3 (Dense)              (None, 128)               7716992   \n",
      "_________________________________________________________________\n",
      "dense_4 (Dense)              (None, 2)                 258       \n",
      "_________________________________________________________________\n",
      "activation_2 (Activation)    (None, 2)                 0         \n",
      "=================================================================\n",
      "Total params: 7,768,834\n",
      "Trainable params: 7,768,834\n",
      "Non-trainable params: 0\n",
      "_________________________________________________________________\n"
     ]
    }
   ],
   "source": [
    "model.summary()"
   ]
  },
  {
   "cell_type": "code",
   "execution_count": 20,
   "metadata": {},
   "outputs": [
    {
     "name": "stdout",
     "output_type": "stream",
     "text": [
      "Train on 31441 samples, validate on 7861 samples\n",
      "Epoch 1/5\n",
      "31441/31441 [==============================] - 171s 5ms/step - loss: 0.3501 - accuracy: 0.8461 - f1_score: 0.8462 - precision: 0.8461 - recall: 0.8461 - val_loss: 0.2461 - val_accuracy: 0.9040 - val_f1_score: 0.9040 - val_precision: 0.9040 - val_recall: 0.9040\n",
      "Epoch 2/5\n",
      "31441/31441 [==============================] - 167s 5ms/step - loss: 0.2317 - accuracy: 0.9128 - f1_score: 0.9128 - precision: 0.9128 - recall: 0.9128 - val_loss: 0.2481 - val_accuracy: 0.9148 - val_f1_score: 0.9143 - val_precision: 0.9148 - val_recall: 0.9148\n",
      "Epoch 3/5\n",
      "31441/31441 [==============================] - 159s 5ms/step - loss: 0.1935 - accuracy: 0.9311 - f1_score: 0.9311 - precision: 0.9311 - recall: 0.9311 - val_loss: 0.2027 - val_accuracy: 0.9241 - val_f1_score: 0.9238 - val_precision: 0.9241 - val_recall: 0.9241\n",
      "Epoch 4/5\n",
      "31441/31441 [==============================] - 160s 5ms/step - loss: 0.1752 - accuracy: 0.9375 - f1_score: 0.9375 - precision: 0.9375 - recall: 0.9375 - val_loss: 0.1663 - val_accuracy: 0.9431 - val_f1_score: 0.9433 - val_precision: 0.9431 - val_recall: 0.9431\n",
      "Epoch 5/5\n",
      "31441/31441 [==============================] - 159s 5ms/step - loss: 0.1678 - accuracy: 0.9429 - f1_score: 0.9428 - precision: 0.9429 - recall: 0.9429 - val_loss: 0.1522 - val_accuracy: 0.9456 - val_f1_score: 0.9457 - val_precision: 0.9456 - val_recall: 0.9456\n"
     ]
    }
   ],
   "source": [
    "history = model.fit(X_train, y_train, batch_size=36, epochs=5, validation_split = 0.2, shuffle=True)"
   ]
  },
  {
   "cell_type": "code",
   "execution_count": 21,
   "metadata": {},
   "outputs": [
    {
     "name": "stdout",
     "output_type": "stream",
     "text": [
      "39302/39302 [==============================] - 31s 798us/step\n"
     ]
    }
   ],
   "source": [
    "f = model.evaluate(X_train, y_train)"
   ]
  },
  {
   "cell_type": "code",
   "execution_count": 22,
   "metadata": {},
   "outputs": [
    {
     "data": {
      "text/plain": [
       "[0.13222646133088986,\n",
       " 0.9541499018669128,\n",
       " 0.9541802406311035,\n",
       " 0.9541499018669128,\n",
       " 0.9541499018669128]"
      ]
     },
     "execution_count": 22,
     "metadata": {},
     "output_type": "execute_result"
    }
   ],
   "source": [
    "f"
   ]
  },
  {
   "cell_type": "code",
   "execution_count": 26,
   "metadata": {},
   "outputs": [],
   "source": [
    "n_timesteps1 = X_train.shape[1]\n",
    "n_features1  = X_train.shape[2] \n",
    "model1 = Sequential()\n",
    "\n",
    "model1.add(Conv1D(64, (5), activation='relu', input_shape=(n_timesteps, n_features)))  \n",
    "model1.add(MaxPooling1D(2,1))\n",
    "model1.add(Conv1D(128, (5), activation='relu'))  \n",
    "model1.add(MaxPooling1D(2,1))\n",
    "model1.add(Conv1D(256, (5), activation='relu'))  \n",
    "model1.add(MaxPooling1D(2,1))\n",
    "model1.add(Dropout(0.5))\n",
    "model1.add(Flatten())\n",
    "model1.add(Dense(128, activation='relu'))\n",
    "model1.add(Dense(y_train.shape[1]))\n",
    "model1.add(Activation('softmax'))"
   ]
  },
  {
   "cell_type": "code",
   "execution_count": 27,
   "metadata": {},
   "outputs": [
    {
     "name": "stdout",
     "output_type": "stream",
     "text": [
      "tracking <tf.Variable 'Variable:0' shape=() dtype=int32, numpy=0> tp\n",
      "tracking <tf.Variable 'Variable:0' shape=() dtype=int32, numpy=0> fp\n",
      "tracking <tf.Variable 'Variable:0' shape=() dtype=int32, numpy=0> tp\n",
      "tracking <tf.Variable 'Variable:0' shape=() dtype=int32, numpy=0> fn\n",
      "tracking <tf.Variable 'Variable:0' shape=() dtype=int32, numpy=0> tp\n",
      "tracking <tf.Variable 'Variable:0' shape=() dtype=int32, numpy=0> fp\n",
      "tracking <tf.Variable 'Variable:0' shape=() dtype=int32, numpy=0> tp\n",
      "tracking <tf.Variable 'Variable:0' shape=() dtype=int32, numpy=0> fn\n"
     ]
    }
   ],
   "source": [
    "import keras_metrics as km\n",
    "OPTI = RMSprop(lr=0.001)\n",
    "model1.compile(loss='binary_crossentropy', optimizer = OPTI, metrics = \n",
    "              ['accuracy', km.f1_score(), km.precision(), km.recall()])"
   ]
  },
  {
   "cell_type": "code",
   "execution_count": 28,
   "metadata": {},
   "outputs": [
    {
     "name": "stdout",
     "output_type": "stream",
     "text": [
      "Train on 31441 samples, validate on 7861 samples\n",
      "Epoch 1/5\n",
      "31441/31441 [==============================] - 381s 12ms/step - loss: 0.3612 - accuracy: 0.8449 - f1_score: 0.7860 - precision: 0.7782 - recall: 0.7949 - val_loss: 0.2603 - val_accuracy: 0.8966 - val_f1_score: 0.9037 - val_precision: 0.8537 - val_recall: 0.9600\n",
      "Epoch 2/5\n",
      "31441/31441 [==============================] - 369s 12ms/step - loss: 0.2349 - accuracy: 0.9110 - f1_score: 0.9079 - precision: 0.8884 - recall: 0.9282 - val_loss: 0.2311 - val_accuracy: 0.9148 - val_f1_score: 0.9142 - val_precision: 0.9249 - val_recall: 0.9039\n",
      "Epoch 3/5\n",
      "31441/31441 [==============================] - 373s 12ms/step - loss: 0.1910 - accuracy: 0.9334 - f1_score: 0.9330 - precision: 0.9111 - recall: 0.9561 - val_loss: 0.1798 - val_accuracy: 0.9345 - val_f1_score: 0.9377 - val_precision: 0.9139 - val_recall: 0.9628\n",
      "Epoch 4/5\n",
      "31441/31441 [==============================] - 368s 12ms/step - loss: 0.1760 - accuracy: 0.9406 - f1_score: 0.9399 - precision: 0.9167 - recall: 0.9644 - val_loss: 0.2005 - val_accuracy: 0.9396 - val_f1_score: 0.9452 - val_precision: 0.9095 - val_recall: 0.9839\n",
      "Epoch 5/5\n",
      "31441/31441 [==============================] - 373s 12ms/step - loss: 0.1647 - accuracy: 0.9441 - f1_score: 0.9445 - precision: 0.9235 - recall: 0.9666 - val_loss: 0.1610 - val_accuracy: 0.9456 - val_f1_score: 0.9485 - val_precision: 0.9215 - val_recall: 0.9772\n"
     ]
    }
   ],
   "source": [
    "history = model1.fit(X_train, y_train, batch_size=36, epochs=5, validation_split = 0.2, shuffle=True)"
   ]
  },
  {
   "cell_type": "code",
   "execution_count": 29,
   "metadata": {},
   "outputs": [
    {
     "name": "stdout",
     "output_type": "stream",
     "text": [
      "39302/39302 [==============================] - 83s 2ms/step\n"
     ]
    }
   ],
   "source": [
    "f = model1.evaluate(X_train, y_train)"
   ]
  },
  {
   "cell_type": "code",
   "execution_count": 31,
   "metadata": {},
   "outputs": [
    {
     "data": {
      "text/plain": [
       "[0.1341400176664326,\n",
       " 0.9529286026954651,\n",
       " 0.9563775062561035,\n",
       " 0.9328163266181946,\n",
       " 0.9811714887619019]"
      ]
     },
     "execution_count": 31,
     "metadata": {},
     "output_type": "execute_result"
    }
   ],
   "source": [
    "f"
   ]
  },
  {
   "cell_type": "code",
   "execution_count": null,
   "metadata": {},
   "outputs": [],
   "source": []
  }
 ],
 "metadata": {
  "kernelspec": {
   "display_name": "Python 3",
   "language": "python",
   "name": "python3"
  },
  "language_info": {
   "codemirror_mode": {
    "name": "ipython",
    "version": 3
   },
   "file_extension": ".py",
   "mimetype": "text/x-python",
   "name": "python",
   "nbconvert_exporter": "python",
   "pygments_lexer": "ipython3",
   "version": "3.7.4"
  }
 },
 "nbformat": 4,
 "nbformat_minor": 4
}
